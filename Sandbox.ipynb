{
 "cells": [
  {
   "cell_type": "code",
   "execution_count": 1,
   "id": "4a919b10",
   "metadata": {},
   "outputs": [],
   "source": [
    "import numpy as np\n",
    "import tensorflow as tf\n"
   ]
  },
  {
   "cell_type": "code",
   "execution_count": 2,
   "id": "09daf458",
   "metadata": {},
   "outputs": [],
   "source": [
    "datagen = tf.keras.preprocessing.image.ImageDataGenerator(validation_split=0.2)"
   ]
  },
  {
   "cell_type": "code",
   "execution_count": 3,
   "id": "6763513c",
   "metadata": {},
   "outputs": [
    {
     "name": "stdout",
     "output_type": "stream",
     "text": [
      "Found 20000 images belonging to 2 classes.\n",
      "Found 5000 images belonging to 2 classes.\n"
     ]
    }
   ],
   "source": [
    "train_it = datagen.flow_from_directory('data', class_mode='categorical', batch_size=64, subset = \"training\")\n",
    "val_it = datagen.flow_from_directory('data', class_mode='categorical', batch_size=64, subset = \"validation\")\n"
   ]
  },
  {
   "cell_type": "code",
   "execution_count": 5,
   "id": "5fabed8e",
   "metadata": {},
   "outputs": [
    {
     "data": {
      "text/plain": [
       "(64, 256, 256, 3)"
      ]
     },
     "execution_count": 5,
     "metadata": {},
     "output_type": "execute_result"
    }
   ],
   "source": [
    "X,y = train_it.next()\n",
    "X.shape"
   ]
  },
  {
   "cell_type": "code",
   "execution_count": 6,
   "id": "f551d7f9",
   "metadata": {},
   "outputs": [],
   "source": [
    "input_t = tf.keras.Input(shape=(256,256,3))\n",
    "pretrained_model = tf.keras.applications.ResNet50(include_top = False, weights=\"imagenet\", input_tensor=input_t)\n",
    "model = tf.keras.models.Sequential()\n",
    "model.add(pretrained_model)\n",
    "model.add(tf.keras.layers.Flatten())\n",
    "model.add(tf.keras.layers.BatchNormalization())\n",
    "model.add(tf.keras.layers.Dense(256, activation='relu'))\n",
    "model.add(tf.keras.layers.Dropout(0.3))\n",
    "model.add(tf.keras.layers.BatchNormalization())\n",
    "model.add(tf.keras.layers.Dense(2, activation='softmax'))\n"
   ]
  },
  {
   "cell_type": "code",
   "execution_count": 9,
   "id": "ba3e2bb5",
   "metadata": {},
   "outputs": [],
   "source": [
    "model.compile(loss = 'categorical_crossentropy', optimizer=tf.keras.optimizers.RMSprop(learning_rate=2e-5), metrics=['accuracy'] )\n"
   ]
  },
  {
   "cell_type": "code",
   "execution_count": 12,
   "id": "1d6ada12",
   "metadata": {},
   "outputs": [
    {
     "name": "stdout",
     "output_type": "stream",
     "text": [
      "Epoch 1/2\n",
      "16/16 [==============================] - 573s 36s/step - loss: 0.1420 - accuracy: 0.9502 - val_loss: 0.4235 - val_accuracy: 0.8887\n",
      "Epoch 2/2\n",
      "16/16 [==============================] - 553s 35s/step - loss: 0.1212 - accuracy: 0.9561 - val_loss: 0.2190 - val_accuracy: 0.9375\n"
     ]
    },
    {
     "data": {
      "text/plain": [
       "<keras.callbacks.History at 0x2ea29497160>"
      ]
     },
     "execution_count": 12,
     "metadata": {},
     "output_type": "execute_result"
    }
   ],
   "source": [
    "model.fit(train_it,epochs=2,steps_per_epoch=16, validation_data=val_it, validation_steps=8)\n"
   ]
  },
  {
   "cell_type": "code",
   "execution_count": 13,
   "id": "b1c5989b",
   "metadata": {},
   "outputs": [
    {
     "name": "stdout",
     "output_type": "stream",
     "text": [
      "Model: \"sequential\"\n",
      "_________________________________________________________________\n",
      " Layer (type)                Output Shape              Param #   \n",
      "=================================================================\n",
      " resnet50 (Functional)       (None, 8, 8, 2048)        23587712  \n",
      "                                                                 \n",
      " flatten (Flatten)           (None, 131072)            0         \n",
      "                                                                 \n",
      " batch_normalization (BatchN  (None, 131072)           524288    \n",
      " ormalization)                                                   \n",
      "                                                                 \n",
      " dense (Dense)               (None, 256)               33554688  \n",
      "                                                                 \n",
      " dropout (Dropout)           (None, 256)               0         \n",
      "                                                                 \n",
      " batch_normalization_1 (Batc  (None, 256)              1024      \n",
      " hNormalization)                                                 \n",
      "                                                                 \n",
      " dense_1 (Dense)             (None, 2)                 514       \n",
      "                                                                 \n",
      "=================================================================\n",
      "Total params: 57,668,226\n",
      "Trainable params: 57,352,450\n",
      "Non-trainable params: 315,776\n",
      "_________________________________________________________________\n"
     ]
    }
   ],
   "source": [
    "model.summary()"
   ]
  },
  {
   "cell_type": "code",
   "execution_count": 15,
   "id": "13a33c7f",
   "metadata": {},
   "outputs": [],
   "source": [
    "model.save('test_2.h5')"
   ]
  },
  {
   "cell_type": "code",
   "execution_count": 14,
   "id": "1311a332",
   "metadata": {},
   "outputs": [
    {
     "data": {
      "text/plain": [
       "<keras.engine.sequential.Sequential at 0x2ea294f0f70>"
      ]
     },
     "execution_count": 14,
     "metadata": {},
     "output_type": "execute_result"
    }
   ],
   "source": [
    "tf.keras.models.load_model('test.h5')"
   ]
  },
  {
   "cell_type": "code",
   "execution_count": 16,
   "id": "38bb537e",
   "metadata": {},
   "outputs": [],
   "source": [
    "import PIL\n",
    "import PIL.Image"
   ]
  },
  {
   "cell_type": "code",
   "execution_count": 27,
   "id": "af6d0217",
   "metadata": {},
   "outputs": [],
   "source": [
    "path = \"C:\\\\Users\\\\vrinda.mittal\\\\Desktop\\\\Dog.jpg\"\n",
    "#img = tf.keras.preprocessing.image.load_img(path)\n",
    "img = tf.keras.utils.load_img(path, grayscale=False, color_mode='rgb', target_size=(256,256), interpolation='nearest', keep_aspect_ratio=False)\n"
   ]
  },
  {
   "cell_type": "code",
   "execution_count": 28,
   "id": "a53a8b1c",
   "metadata": {},
   "outputs": [
    {
     "data": {
      "text/plain": [
       "(256, 256)"
      ]
     },
     "execution_count": 28,
     "metadata": {},
     "output_type": "execute_result"
    }
   ],
   "source": [
    "img.size"
   ]
  },
  {
   "cell_type": "code",
   "execution_count": 29,
   "id": "65ca7519",
   "metadata": {},
   "outputs": [
    {
     "data": {
      "text/plain": [
       "(256, 256, 3)"
      ]
     },
     "execution_count": 29,
     "metadata": {},
     "output_type": "execute_result"
    }
   ],
   "source": [
    "arr_img = tf.keras.utils.img_to_array(img)\n",
    "#new_img = tf.image.resize(arr_img, (256,256,3))\n",
    "arr_img.shape"
   ]
  },
  {
   "cell_type": "code",
   "execution_count": 31,
   "id": "215bdbfa",
   "metadata": {},
   "outputs": [],
   "source": [
    "input_arr = np.array([arr_img]) "
   ]
  },
  {
   "cell_type": "code",
   "execution_count": 32,
   "id": "01823cba",
   "metadata": {},
   "outputs": [
    {
     "data": {
      "text/plain": [
       "(1, 256, 256, 3)"
      ]
     },
     "execution_count": 32,
     "metadata": {},
     "output_type": "execute_result"
    }
   ],
   "source": [
    "input_arr.shape"
   ]
  },
  {
   "cell_type": "code",
   "execution_count": 33,
   "id": "99976323",
   "metadata": {},
   "outputs": [
    {
     "name": "stdout",
     "output_type": "stream",
     "text": [
      "1/1 [==============================] - 2s 2s/step\n"
     ]
    }
   ],
   "source": [
    "predictions = model.predict(input_arr)"
   ]
  },
  {
   "cell_type": "code",
   "execution_count": 35,
   "id": "f55ce7c4",
   "metadata": {},
   "outputs": [
    {
     "name": "stdout",
     "output_type": "stream",
     "text": [
      "predicted: 1\n"
     ]
    }
   ],
   "source": []
  },
  {
   "cell_type": "code",
   "execution_count": 43,
   "id": "2e8d3874",
   "metadata": {},
   "outputs": [
    {
     "data": {
      "text/plain": [
       "{0: 'Cat', 1: 'Dog'}"
      ]
     },
     "execution_count": 43,
     "metadata": {},
     "output_type": "execute_result"
    }
   ],
   "source": [
    "label_map = {v:k for k,v in train_it.class_indices.items()}\n",
    "label_map"
   ]
  },
  {
   "cell_type": "code",
   "execution_count": 46,
   "id": "7b2b75ab",
   "metadata": {},
   "outputs": [
    {
     "name": "stdout",
     "output_type": "stream",
     "text": [
      "Prediction: Dog\n"
     ]
    }
   ],
   "source": [
    "print(f\"Prediction: {label_map[predictions.argmax()]}\")"
   ]
  },
  {
   "cell_type": "code",
   "execution_count": 50,
   "id": "fba5c962",
   "metadata": {},
   "outputs": [
    {
     "name": "stdout",
     "output_type": "stream",
     "text": [
      "{0: 'Cat', 1: 'Dog'}\n"
     ]
    }
   ],
   "source": [
    "import pickle\n",
    "\n",
    "with open('label_map.pickle', 'wb') as handle:\n",
    "    pickle.dump(label_map, handle, protocol=pickle.HIGHEST_PROTOCOL)\n",
    "\n",
    "with open('label_map.pickle', 'rb') as handle:\n",
    "    label_map2 = pickle.load(handle)\n",
    "\n",
    "print(label_map2)"
   ]
  }
 ],
 "metadata": {
  "kernelspec": {
   "display_name": "Python 3 (ipykernel)",
   "language": "python",
   "name": "python3"
  },
  "language_info": {
   "codemirror_mode": {
    "name": "ipython",
    "version": 3
   },
   "file_extension": ".py",
   "mimetype": "text/x-python",
   "name": "python",
   "nbconvert_exporter": "python",
   "pygments_lexer": "ipython3",
   "version": "3.10.5"
  }
 },
 "nbformat": 4,
 "nbformat_minor": 5
}
